{
 "cells": [
  {
   "cell_type": "markdown",
   "id": "e04f2f09",
   "metadata": {
    "papermill": {
     "duration": 0.011247,
     "end_time": "2022-04-22T14:19:27.307469",
     "exception": false,
     "start_time": "2022-04-22T14:19:27.296222",
     "status": "completed"
    },
    "tags": []
   },
   "source": [
    "## config"
   ]
  },
  {
   "cell_type": "code",
   "execution_count": 1,
   "id": "96b87c71",
   "metadata": {
    "_cell_guid": "8294ca81-28cf-4514-9b6f-15ae769774b0",
    "_uuid": "65394a79-318f-4608-91c7-ecd79c1be0a3",
    "collapsed": false,
    "execution": {
     "iopub.execute_input": "2022-04-22T14:19:27.330104Z",
     "iopub.status.busy": "2022-04-22T14:19:27.329538Z",
     "iopub.status.idle": "2022-04-22T14:19:27.341976Z",
     "shell.execute_reply": "2022-04-22T14:19:27.341325Z"
    },
    "jupyter": {
     "outputs_hidden": false
    },
    "papermill": {
     "duration": 0.026399,
     "end_time": "2022-04-22T14:19:27.344232",
     "exception": false,
     "start_time": "2022-04-22T14:19:27.317833",
     "status": "completed"
    },
    "tags": []
   },
   "outputs": [],
   "source": [
    "# banknote classification config\n",
    "\n",
    "# 超参配置\n",
    "# yaml\n",
    "class Hyperparameter:\n",
    "    # ################################################################\n",
    "    #                             Data\n",
    "    # ################################################################\n",
    "    device = 'cpu'\n",
    "    data_root = './data/'\n",
    "    cls_mapper_path = './data/cls_mapper.json'\n",
    "    train_data_root = '../input/sabastien-marcel/shp_marcel_train/Marcel-Train'\n",
    "    test_data_root = '../input/sabastien-marcel/shp_marcel_test/Marcel-Test'\n",
    "\n",
    "    metadata_train_path = '../input/gesture-output/data/train_hand_gesture.txt'\n",
    "    metadata_eval_path = '../input/gesture-output/data/eval_hand_gesture.txt'\n",
    "    metadata_test_path = '../input/gesture-output/data/test_hand_gesture.txt'\n",
    "\n",
    "    class_num = 6\n",
    "    seed = 1234  # random seed\n",
    "\n",
    "    # ################################################################\n",
    "    #                             Model Structure\n",
    "    # ################################################################\n",
    "    data_channels = 3\n",
    "    conv_kernel_size = 3\n",
    "    fc_drop_prob = 0.3\n",
    "\n",
    "    # ################################################################\n",
    "    #                             Experiment\n",
    "    # ################################################################\n",
    "    batch_size = 16\n",
    "    init_lr = 5e-4\n",
    "    epochs = 100\n",
    "    verbose_step = 250\n",
    "    save_step = 1500\n",
    "\n",
    "\n",
    "HP = Hyperparameter()"
   ]
  },
  {
   "cell_type": "markdown",
   "id": "cac059bd",
   "metadata": {
    "papermill": {
     "duration": 0.010038,
     "end_time": "2022-04-22T14:19:27.364784",
     "exception": false,
     "start_time": "2022-04-22T14:19:27.354746",
     "status": "completed"
    },
    "tags": []
   },
   "source": [
    "## utils"
   ]
  },
  {
   "cell_type": "code",
   "execution_count": 2,
   "id": "3fcad1f7",
   "metadata": {
    "execution": {
     "iopub.execute_input": "2022-04-22T14:19:27.387220Z",
     "iopub.status.busy": "2022-04-22T14:19:27.386615Z",
     "iopub.status.idle": "2022-04-22T14:19:27.396212Z",
     "shell.execute_reply": "2022-04-22T14:19:27.395472Z"
    },
    "papermill": {
     "duration": 0.023088,
     "end_time": "2022-04-22T14:19:27.398432",
     "exception": false,
     "start_time": "2022-04-22T14:19:27.375344",
     "status": "completed"
    },
    "tags": []
   },
   "outputs": [],
   "source": [
    "import os\n",
    "from PIL import Image\n",
    "\n",
    "\n",
    "# 获取某个文件夹下面所有后缀为suffix的文件，返回path的list\n",
    "def recursive_fetching(root, suffix=['jpg', 'png']):\n",
    "    all_file_path = []\n",
    "\n",
    "    def get_all_files(path):\n",
    "        all_file_list = os.listdir(path)\n",
    "        # 遍历该文件夹下的所有目录或者文件\n",
    "        for file in all_file_list:\n",
    "            filepath = os.path.join(path, file)\n",
    "            # 如果是文件夹，递归调用函数\n",
    "            if os.path.isdir(filepath):\n",
    "                get_all_files(filepath)\n",
    "            # 如果不是文件夹，保存文件路径及文件名\n",
    "            elif os.path.isfile(filepath):\n",
    "                all_file_path.append(filepath)\n",
    "\n",
    "    get_all_files(root)\n",
    "\n",
    "    file_paths = [it for it in all_file_path if os.path.split(it)[-1].split('.')[-1].lower() in suffix]\n",
    "\n",
    "    return file_paths\n",
    "\n",
    "\n",
    "def load_meta(meta_path):\n",
    "    with open(meta_path, 'r') as fr:\n",
    "        return [line.strip().split('|') for line in fr.readlines()]\n",
    "\n",
    "\n",
    "def load_image(image_path):\n",
    "    return Image.open(image_path)\n"
   ]
  },
  {
   "cell_type": "markdown",
   "id": "a586ebc4",
   "metadata": {
    "papermill": {
     "duration": 0.010365,
     "end_time": "2022-04-22T14:19:27.418958",
     "exception": false,
     "start_time": "2022-04-22T14:19:27.408593",
     "status": "completed"
    },
    "tags": []
   },
   "source": [
    "## dataset_hg"
   ]
  },
  {
   "cell_type": "code",
   "execution_count": 3,
   "id": "ef9edcc1",
   "metadata": {
    "execution": {
     "iopub.execute_input": "2022-04-22T14:19:27.440785Z",
     "iopub.status.busy": "2022-04-22T14:19:27.440236Z",
     "iopub.status.idle": "2022-04-22T14:19:28.938443Z",
     "shell.execute_reply": "2022-04-22T14:19:28.937332Z"
    },
    "papermill": {
     "duration": 1.511917,
     "end_time": "2022-04-22T14:19:28.940884",
     "exception": false,
     "start_time": "2022-04-22T14:19:27.428967",
     "status": "completed"
    },
    "tags": []
   },
   "outputs": [],
   "source": [
    "import torch\n",
    "from torch.utils.data import DataLoader\n",
    "from torchvision import transforms as T\n",
    "\n",
    "hg_transform = T.Compose([\n",
    "    T.Resize((112, 112)),\n",
    "    # T.RandomRotation(degrees=45),\n",
    "    # T.GaussianBlur(kernel_size=(3, 3)),\n",
    "    # T.RandomHorizontalFlip(),\n",
    "    T.ToTensor(),\n",
    "    T.Normalize((0.485, 0.456, 0.406), (0.229, 0.224, 0.225))\n",
    "])\n",
    "\n",
    "class HandGestureDataset(torch.utils.data.Dataset):\n",
    "\n",
    "    def __init__(self, metadata_path):\n",
    "        self.dataset = load_meta(metadata_path)\n",
    "\n",
    "    def __getitem__(self, index):\n",
    "        item = self.dataset[index]\n",
    "        cls_id, path = int(item[0]), item[1]\n",
    "        image = load_image(path)\n",
    "        return hg_transform(image).to(HP.device), cls_id\n",
    "    \n",
    "    def __len__(self):\n",
    "        return len(self.dataset)"
   ]
  },
  {
   "cell_type": "markdown",
   "id": "a95a8b15",
   "metadata": {
    "papermill": {
     "duration": 0.010224,
     "end_time": "2022-04-22T14:19:28.961569",
     "exception": false,
     "start_time": "2022-04-22T14:19:28.951345",
     "status": "completed"
    },
    "tags": []
   },
   "source": [
    "## model"
   ]
  },
  {
   "cell_type": "code",
   "execution_count": 4,
   "id": "abc28d52",
   "metadata": {
    "execution": {
     "iopub.execute_input": "2022-04-22T14:19:28.983917Z",
     "iopub.status.busy": "2022-04-22T14:19:28.983483Z",
     "iopub.status.idle": "2022-04-22T14:19:29.012139Z",
     "shell.execute_reply": "2022-04-22T14:19:29.011157Z"
    },
    "papermill": {
     "duration": 0.042653,
     "end_time": "2022-04-22T14:19:29.014224",
     "exception": false,
     "start_time": "2022-04-22T14:19:28.971571",
     "status": "completed"
    },
    "tags": []
   },
   "outputs": [],
   "source": [
    "import torch\n",
    "from torch.nn.functional import mish\n",
    "\n",
    "\n",
    "class DSConv2d(torch.nn.Module):\n",
    "\n",
    "    def __init__(self, in_channels, out_channels, kernel_size):\n",
    "        super(DSConv2d, self).__init__()\n",
    "        assert kernel_size % 2 == 1, 'kernel_size must be odd!'\n",
    "        self.depth_conv = torch.nn.Conv2d(\n",
    "            in_channels=in_channels,\n",
    "            out_channels=in_channels,\n",
    "            kernel_size=(kernel_size, kernel_size),\n",
    "            padding=(kernel_size // 2, kernel_size // 2),\n",
    "            groups=in_channels\n",
    "        )\n",
    "        self.pointwise_conv = torch.nn.Conv2d(in_channels=in_channels, out_channels=out_channels, kernel_size=(1, 1))\n",
    "\n",
    "    def forward(self, x):\n",
    "        out = self.depth_conv(x)\n",
    "        out_final = self.pointwise_conv(out)\n",
    "        return out_final\n",
    "\n",
    "\n",
    "class TrialBlock(torch.nn.Module):\n",
    "\n",
    "    def __init__(self, in_channels):\n",
    "        super(TrialBlock, self).__init__()\n",
    "        self.left_flow = torch.nn.Sequential(\n",
    "            torch.nn.Conv2d(in_channels=in_channels, out_channels=in_channels, kernel_size=(1, 1)),\n",
    "            torch.nn.BatchNorm2d(in_channels),\n",
    "            torch.nn.Mish(),\n",
    "            DSConv2d(in_channels=in_channels, out_channels=in_channels, kernel_size=3),\n",
    "            torch.nn.BatchNorm2d(in_channels),\n",
    "            torch.nn.Mish(),\n",
    "            torch.nn.Conv2d(\n",
    "                in_channels=in_channels,\n",
    "                out_channels=in_channels, kernel_size=(7, 7),\n",
    "                padding=(7 // 2, 7 // 2)\n",
    "            )\n",
    "        )\n",
    "        self.right_flow = torch.nn.Sequential(\n",
    "            torch.nn.Conv2d(\n",
    "                in_channels=in_channels,\n",
    "                out_channels=in_channels, kernel_size=(7, 7),\n",
    "                padding=(7 // 2, 7 // 2)\n",
    "            ),\n",
    "            torch.nn.BatchNorm2d(in_channels),\n",
    "            torch.nn.Mish(),\n",
    "            DSConv2d(in_channels=in_channels, out_channels=in_channels, kernel_size=3),\n",
    "            torch.nn.BatchNorm2d(in_channels),\n",
    "            torch.nn.Mish(),\n",
    "            torch.nn.Conv2d(in_channels=in_channels, out_channels=in_channels, kernel_size=(1, 1))\n",
    "        )\n",
    "\n",
    "    def forward(self, x):\n",
    "        out = self.left_flow(x) + self.right_flow(x) + x\n",
    "        out_final = mish(out)\n",
    "        return out_final\n",
    "\n",
    "\n",
    "class TrialNet(torch.nn.Module):\n",
    "\n",
    "    def __init__(self):\n",
    "        super(TrialNet, self).__init__()\n",
    "\n",
    "        self.tn_conv = torch.nn.Sequential(\n",
    "\n",
    "            torch.nn.Conv2d(\n",
    "                in_channels=HP.data_channels,\n",
    "                out_channels=64,\n",
    "                kernel_size=(3, 3),\n",
    "                padding=(3 // 2, 3 // 2)\n",
    "            ),\n",
    "            torch.nn.BatchNorm2d(64),\n",
    "            torch.nn.Mish(),\n",
    "            TrialBlock(in_channels=64),\n",
    "            torch.nn.MaxPool2d(kernel_size=(2, 2), stride=(2, 2)),\n",
    "\n",
    "            torch.nn.Conv2d(\n",
    "                in_channels=64,\n",
    "                out_channels=128,\n",
    "                kernel_size=(3, 3),\n",
    "                padding=(3 // 2, 3 // 2)\n",
    "            ),\n",
    "            torch.nn.BatchNorm2d(128),\n",
    "            torch.nn.Mish(),\n",
    "            TrialBlock(in_channels=128),\n",
    "            torch.nn.MaxPool2d(kernel_size=(2, 2), stride=(2, 2)),\n",
    "\n",
    "            torch.nn.Conv2d(\n",
    "                in_channels=128,\n",
    "                out_channels=256,\n",
    "                kernel_size=(3, 3),\n",
    "                padding=(3 // 2, 3 // 2)\n",
    "            ),\n",
    "            torch.nn.BatchNorm2d(256),\n",
    "            torch.nn.Mish(),\n",
    "            TrialBlock(in_channels=256),\n",
    "            torch.nn.MaxPool2d(kernel_size=(2, 2), stride=(2, 2)),\n",
    "\n",
    "            TrialBlock(in_channels=256),\n",
    "            TrialBlock(in_channels=256),\n",
    "            TrialBlock(in_channels=256),\n",
    "            torch.nn.MaxPool2d(kernel_size=(2, 2), stride=(2, 2))\n",
    "        )\n",
    "\n",
    "        self.tn_fc = torch.nn.Sequential(\n",
    "\n",
    "            torch.nn.Linear(in_features=256 * 7 * 7, out_features=2048),\n",
    "            torch.nn.Mish(),\n",
    "            torch.nn.Dropout(HP.fc_drop_prob),\n",
    "\n",
    "            torch.nn.Linear(in_features=2048, out_features=1024),\n",
    "            torch.nn.Mish(),\n",
    "            torch.nn.Dropout(HP.fc_drop_prob),\n",
    "\n",
    "            torch.nn.Linear(in_features=1024, out_features=HP.class_num)\n",
    "        )\n",
    "\n",
    "    def forward(self, x):\n",
    "        out = self.tn_conv(x)\n",
    "        out_final = self.tn_fc(out.view(x.size(0), -1))\n",
    "        return out_final"
   ]
  },
  {
   "cell_type": "markdown",
   "id": "2d0c27b9",
   "metadata": {
    "papermill": {
     "duration": 0.009603,
     "end_time": "2022-04-22T14:19:29.033809",
     "exception": false,
     "start_time": "2022-04-22T14:19:29.024206",
     "status": "completed"
    },
    "tags": []
   },
   "source": [
    "## inference"
   ]
  },
  {
   "cell_type": "code",
   "execution_count": 5,
   "id": "f03b6340",
   "metadata": {
    "execution": {
     "iopub.execute_input": "2022-04-22T14:19:29.055844Z",
     "iopub.status.busy": "2022-04-22T14:19:29.055269Z",
     "iopub.status.idle": "2022-04-22T14:24:20.744227Z",
     "shell.execute_reply": "2022-04-22T14:24:20.743493Z"
    },
    "papermill": {
     "duration": 291.712676,
     "end_time": "2022-04-22T14:24:20.756402",
     "exception": false,
     "start_time": "2022-04-22T14:19:29.043726",
     "status": "completed"
    },
    "tags": []
   },
   "outputs": [
    {
     "name": "stdout",
     "output_type": "stream",
     "text": [
      "Acc: 0.968\n"
     ]
    }
   ],
   "source": [
    "import torch\n",
    "from torch.utils.data import DataLoader\n",
    "\n",
    "model = TrialNet()\n",
    "checkpoint = torch.load('../input/gesture-output/model_save/model_25_7000.model', map_location=HP.device)\n",
    "model.load_state_dict(checkpoint['model_state_dict'])\n",
    "\n",
    "testset = HandGestureDataset(HP.metadata_test_path)\n",
    "test_loader = DataLoader(testset, batch_size=HP.batch_size, shuffle=True, drop_last=False)\n",
    "\n",
    "model.eval()\n",
    "\n",
    "total_count = 0\n",
    "correct_count = 0\n",
    "\n",
    "with torch.no_grad():\n",
    "    for batch in test_loader:\n",
    "        x, y = batch\n",
    "        pred = model(x)\n",
    "        total_count += pred.size(0)\n",
    "        correct_count += (torch.argmax(pred, 1) == y).sum()\n",
    "\n",
    "print('Acc: %.3f' % (correct_count / total_count))"
   ]
  }
 ],
 "metadata": {
  "kernelspec": {
   "display_name": "Python 3",
   "language": "python",
   "name": "python3"
  },
  "language_info": {
   "codemirror_mode": {
    "name": "ipython",
    "version": 3
   },
   "file_extension": ".py",
   "mimetype": "text/x-python",
   "name": "python",
   "nbconvert_exporter": "python",
   "pygments_lexer": "ipython3",
   "version": "3.7.12"
  },
  "papermill": {
   "default_parameters": {},
   "duration": 304.245955,
   "end_time": "2022-04-22T14:24:21.587879",
   "environment_variables": {},
   "exception": null,
   "input_path": "__notebook__.ipynb",
   "output_path": "__notebook__.ipynb",
   "parameters": {},
   "start_time": "2022-04-22T14:19:17.341924",
   "version": "2.3.4"
  }
 },
 "nbformat": 4,
 "nbformat_minor": 5
}
